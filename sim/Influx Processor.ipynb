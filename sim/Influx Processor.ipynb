{
 "cells": [
  {
   "cell_type": "code",
   "execution_count": null,
   "metadata": {
    "scrolled": false
   },
   "outputs": [],
   "source": [
    "from influxdb import InfluxDBClient\n",
    "import time;\n",
    "import random\n",
    "\n",
    "json_body = []\n",
    "\n",
    "for j in range(1, 20):\n",
    "    for x in range(1, 100):\n",
    "        time.sleep(0.1)\n",
    "        ticks = round(time.time()*1000) # time in ms\n",
    "        print(ticks)\n",
    "        json_body += [\n",
    "            {\n",
    "                \"measurement\": \"kek\",\n",
    "                \"time\": ticks*1000*1000,\n",
    "                \"fields\": {\n",
    "                    \"value\": random.random(),\n",
    "                    \"value2\": random.random()\n",
    "                }\n",
    "            }\n",
    "        ]\n",
    "    \n",
    "    client = InfluxDBClient('localhost', 8086, 'root', 'root', 'statsdemo')\n",
    "    client.write_points(json_body)"
   ]
  },
  {
   "cell_type": "code",
   "execution_count": 75,
   "metadata": {},
   "outputs": [
    {
     "data": {
      "text/plain": [
       "True"
      ]
     },
     "execution_count": 75,
     "metadata": {},
     "output_type": "execute_result"
    }
   ],
   "source": [
    "import json\n",
    "import sys\n",
    "import matplotlib.pyplot as plt\n",
    "%matplotlib inline  \n",
    "file = open(\"last100s.txt\")\n",
    "\n",
    "def flatten(data, prefix=\"\"):\n",
    "    flat = dict()\n",
    "    \n",
    "    if isinstance(data,dict):\n",
    "        if prefix:\n",
    "            prefix += \".\"\n",
    "        for k,v in data.items():\n",
    "            flat.update(flatten(v, prefix + str(k)))\n",
    "        return flat;\n",
    "    \n",
    "    if isinstance(data,list):\n",
    "        if prefix:\n",
    "            prefix += \".\"\n",
    "        i = 0;\n",
    "        for v in data:\n",
    "            flat.update(flatten(v, prefix + str(i)))\n",
    "            i += 1\n",
    "        return flat\n",
    "    \n",
    "    return {prefix:data}\n",
    "\n",
    "\n",
    "\n",
    "json_body = []\n",
    "start_time = round(time.time()*1000) # time in ms\n",
    "\n",
    "id = []\n",
    "stack = []\n",
    "bat = {\"cellA\":[],\"cellB\":[]}\n",
    "for line in file:\n",
    "    try:\n",
    "        data = json.loads(line)\n",
    "        if data[\"id\"] == \"sensor\":\n",
    "            try:\n",
    "                \n",
    "                flat = flatten(data)\n",
    "                flat[\"id\"] = 0.0 #Need to handle enumerated states!\n",
    "                flt = dict()\n",
    "                \n",
    "                for key in flat:\n",
    "                    flt[key] = float(flat[key])\n",
    "                    #print(flat)\n",
    "                \n",
    "                json_body += [\n",
    "                    {\n",
    "                        \"measurement\": \"flight1\",\n",
    "                        \"time\": (start_time + data[u\"tick\"])*1000*1000,\n",
    "                        \"fields\": flt\n",
    "                    }\n",
    "                ]\n",
    "                \n",
    "                \n",
    "                \n",
    "            except KeyError:\n",
    "                print('keyError')\n",
    "                print(line)\n",
    "        if data[u\"id\"] == u\"status\":\n",
    "            tick_stat.append(data[u\"tick\"])\n",
    "            #bat[\"cell\"].append(data[u'bat'][u\"cell\"])\n",
    "    except ValueError:\n",
    "        print('line not JSON')\n",
    "file.close()\n",
    "\n",
    "client = InfluxDBClient('localhost', 8086, 'root', 'root', 'statsdemo')\n",
    "client.write_points(json_body)\n"
   ]
  },
  {
   "cell_type": "code",
   "execution_count": null,
   "metadata": {},
   "outputs": [],
   "source": []
  },
  {
   "cell_type": "code",
   "execution_count": null,
   "metadata": {},
   "outputs": [],
   "source": []
  }
 ],
 "metadata": {
  "kernelspec": {
   "display_name": "Python 3",
   "language": "python",
   "name": "python3"
  },
  "language_info": {
   "codemirror_mode": {
    "name": "ipython",
    "version": 3
   },
   "file_extension": ".py",
   "mimetype": "text/x-python",
   "name": "python",
   "nbconvert_exporter": "python",
   "pygments_lexer": "ipython3",
   "version": "3.6.5"
  }
 },
 "nbformat": 4,
 "nbformat_minor": 2
}
