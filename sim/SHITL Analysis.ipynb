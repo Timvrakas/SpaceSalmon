{
 "cells": [
  {
   "cell_type": "code",
   "execution_count": 67,
   "metadata": {
    "scrolled": false
   },
   "outputs": [
    {
     "data": {
      "text/plain": [
       "[array([3.90000e-02, 5.80000e-02, 7.20000e-02, ..., 1.99938e+02,\n",
       "        1.99960e+02, 1.99979e+02]),\n",
       " array([642.99677045, 643.00128726, 642.99400727, ..., 637.67240786,\n",
       "        637.72403166, 637.74749723]),\n",
       " array([ 6.47198101e-03,  4.09711687e-02,  8.76758751e-02, ...,\n",
       "        -6.76301998e+00, -6.59639457e+00, -6.53356969e+00])]"
      ]
     },
     "execution_count": 67,
     "metadata": {},
     "output_type": "execute_result"
    }
   ],
   "source": [
    "import pickle\n",
    "\n",
    "with open(\"C:/Users/timv/Git/SpaceSalmon/sim/filter_sim_data.pkl\", 'rb') as f:\n",
    "    sim = pickle.load(f)\n",
    "    \n",
    "sim"
   ]
  },
  {
   "cell_type": "code",
   "execution_count": 27,
   "metadata": {
    "scrolled": false
   },
   "outputs": [
    {
     "name": "stdout",
     "output_type": "stream",
     "text": [
      "line not JSON\n",
      "line not JSON\n",
      "line not JSON\n",
      "line not JSON\n",
      "Using matplotlib backend: Qt5Agg\n"
     ]
    },
    {
     "data": {
      "text/plain": [
       "<Figure size 1280x960 with 0 Axes>"
      ]
     },
     "execution_count": 27,
     "metadata": {},
     "output_type": "execute_result"
    }
   ],
   "source": [
    "import json\n",
    "import sys\n",
    "import matplotlib.pyplot as plt\n",
    "file = open(\"log19.txt\")\n",
    "\n",
    "def flatten(data, prefix=\"\"):\n",
    "    flat = dict()\n",
    "    \n",
    "    if isinstance(data,dict):\n",
    "        if prefix:\n",
    "            prefix += \".\"\n",
    "        for k,v in data.items():\n",
    "            flat.update(flatten(v, prefix + str(k)))\n",
    "        return flat;\n",
    "    \n",
    "    if isinstance(data,list):\n",
    "        if prefix:\n",
    "            prefix += \".\"\n",
    "        i = 0;\n",
    "        for v in data:\n",
    "            flat.update(flatten(v, prefix + str(i)))\n",
    "            i += 1\n",
    "        return flat\n",
    "    \n",
    "    return {prefix:data}\n",
    "\n",
    "\n",
    "\n",
    "json_body = []\n",
    "\n",
    "id = []\n",
    "stack = []\n",
    "bat = {\"cellA\":[],\"cellB\":[]}\n",
    "for line in file:\n",
    "    try:\n",
    "        data = json.loads(line)\n",
    "        if data[\"id\"] == \"sensor\":\n",
    "            try:\n",
    "                \n",
    "                flat = flatten(data)\n",
    "                flat[\"id\"] = 0.0 #Need to handle enumerated states!\n",
    "                flt = dict()\n",
    "                \n",
    "                for key in flat:\n",
    "                    flt[key] = float(flat[key])\n",
    "                \n",
    "                json_body += [flt]\n",
    "                \n",
    "                \n",
    "            except KeyError:\n",
    "                print('keyError')\n",
    "                print(line)\n",
    "        #if data[u\"id\"] == u\"status\":\n",
    "            #tick_stat.append(data[u\"tick\"])\n",
    "            #bat[\"cell\"].append(data[u'bat'][u\"cell\"])\n",
    "            \n",
    "    except ValueError:\n",
    "        print('line not JSON')\n",
    "file.close()\n",
    "\n",
    "\n",
    "\n",
    "data = [[data[key] for data in json_body] for key in [\"tick\",\"adxl1.a.1\"]]\n",
    "\n",
    "%matplotlib\n",
    "\n",
    "#fig, ax1 = plt.subplots()\n",
    "\n",
    "data[0] = [(a)/1000 for a in data[0]]\n",
    "\n",
    "plt.plot(data[0],data[1])\n",
    "#plt.plot(sim[0],sim[2])\n",
    "#ax2 = ax1.twinx()\n",
    "#ax2.plot(data[0],data[2])\n",
    "\n",
    "plt.figure()\n",
    "\n",
    "#plt.plot(data[0],data[3])\n",
    "#plt.plot(data[0],data[4])\n",
    "\n"
   ]
  },
  {
   "cell_type": "code",
   "execution_count": null,
   "metadata": {},
   "outputs": [],
   "source": []
  },
  {
   "cell_type": "code",
   "execution_count": null,
   "metadata": {},
   "outputs": [],
   "source": []
  }
 ],
 "metadata": {
  "kernelspec": {
   "display_name": "Python 3",
   "language": "python",
   "name": "python3"
  },
  "language_info": {
   "codemirror_mode": {
    "name": "ipython",
    "version": 3
   },
   "file_extension": ".py",
   "mimetype": "text/x-python",
   "name": "python",
   "nbconvert_exporter": "python",
   "pygments_lexer": "ipython3",
   "version": "3.6.5"
  }
 },
 "nbformat": 4,
 "nbformat_minor": 2
}
