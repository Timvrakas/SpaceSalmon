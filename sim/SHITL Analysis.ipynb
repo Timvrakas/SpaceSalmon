{
 "cells": [
  {
   "cell_type": "code",
   "execution_count": 67,
   "metadata": {
    "scrolled": false
   },
   "outputs": [
    {
     "data": {
      "text/plain": [
       "[array([3.90000e-02, 5.80000e-02, 7.20000e-02, ..., 1.99938e+02,\n",
       "        1.99960e+02, 1.99979e+02]),\n",
       " array([642.99677045, 643.00128726, 642.99400727, ..., 637.67240786,\n",
       "        637.72403166, 637.74749723]),\n",
       " array([ 6.47198101e-03,  4.09711687e-02,  8.76758751e-02, ...,\n",
       "        -6.76301998e+00, -6.59639457e+00, -6.53356969e+00])]"
      ]
     },
     "execution_count": 67,
     "metadata": {},
     "output_type": "execute_result"
    }
   ],
   "source": [
    "import pickle\n",
    "\n",
    "with open(\"C:/Users/timv/Git/SpaceSalmon/sim/filter_sim_data.pkl\", 'rb') as f:\n",
    "    sim = pickle.load(f)\n",
    "    \n",
    "sim"
   ]
  },
  {
   "cell_type": "code",
   "execution_count": 28,
   "metadata": {
    "scrolled": false
   },
   "outputs": [
    {
     "name": "stdout",
     "output_type": "stream",
     "text": [
      "Using matplotlib backend: Qt5Agg\n"
     ]
    },
    {
     "data": {
      "text/plain": [
       "<matplotlib.legend.Legend at 0x25ec7eb5080>"
      ]
     },
     "execution_count": 28,
     "metadata": {},
     "output_type": "execute_result"
    }
   ],
   "source": [
    "import json\n",
    "import sys\n",
    "import matplotlib.pyplot as plt\n",
    "file = open(\"15-2-2020-trim.txt\")\n",
    "\n",
    "#this converts heiarchical data into a flattened dict\n",
    "def flatten(data, prefix=\"\"):\n",
    "    flat = dict()\n",
    "    \n",
    "    if isinstance(data,dict):\n",
    "        if prefix:\n",
    "            prefix += \".\"\n",
    "        for k,v in data.items():\n",
    "            flat.update(flatten(v, prefix + str(k)))\n",
    "        return flat;\n",
    "    \n",
    "    if isinstance(data,list):\n",
    "        if prefix:\n",
    "            prefix += \".\"\n",
    "        i = 0;\n",
    "        for v in data:\n",
    "            flat.update(flatten(v, prefix + str(i)))\n",
    "            i += 1\n",
    "        return flat\n",
    "    \n",
    "    return {prefix:data}\n",
    "\n",
    "\n",
    "\n",
    "frames = []\n",
    "for line in file:\n",
    "    try:\n",
    "        data = json.loads(line)\n",
    "        if data[\"id\"] == \"sensor\":\n",
    "            try:\n",
    "                \n",
    "                flat = flatten(data)\n",
    "                flat[\"id\"] = 0.0 #Need to handle enumerated states!\n",
    "                flt = dict()\n",
    "                \n",
    "                for key in flat:\n",
    "                    flt[key] = float(flat[key])\n",
    "                \n",
    "                frames += [flt]\n",
    "                \n",
    "            except KeyError:\n",
    "                print('keyError')\n",
    "                print(line)\n",
    "    except ValueError:\n",
    "        print('line not JSON')\n",
    "file.close()\n",
    "\n",
    "#convert time to ms\n",
    "for frame in frames:\n",
    "    frame[\"tick\"] = frame[\"tick\"]/1000\n",
    "\n",
    "#these are the keys of the sensor data\n",
    "keys = list(json_body[0].keys())\n",
    "#this is the data in a dict of time series\n",
    "series = {keys[i]: [data[keys[i]] for data in json_body] for i in range(len(keys))}\n",
    "#this is the data in a time series of dicts\n",
    "\n",
    "\n",
    "###TIME TO PLOT###\n",
    "%matplotlib\n",
    "\n",
    "#Set up three Y axes\n",
    "fig, ax1 = plt.subplots()\n",
    "fig.subplots_adjust(right=0.75)\n",
    "ax2 = ax1.twinx()\n",
    "ax3 = ax1.twinx()\n",
    "ax3.spines[\"right\"].set_position((\"axes\", 1.2))\n",
    "\n",
    "#Measured RPM (from diff. mode accel)\n",
    "spin = [(((a['adxl2.a.0']-a['adxl1.a.0'])/0.01)**0.5)*60/2/3.14 for a in frames]\n",
    "\n",
    "#Common mode accel\n",
    "accx = [(a[\"adxl1.a.0\"]+a[\"adxl2.a.0\"])/2 for a in frames]\n",
    "accz = [(a[\"adxl1.a.2\"]+a[\"adxl2.a.2\"])/2 for a in frames]\n",
    "\n",
    "ax3.plot(series['tick'],spin, color=\"orange\",label='RPM')\n",
    "ax1.plot(series['tick'],accx,color=\"green\",label='x accel')\n",
    "ax1.plot(series['tick'],accz,color=\"red\",label='z accel')\n",
    "ax2.plot(series['tick'],series['bmp2.p'],color=\"blue\",label='pressure')\n",
    "\n",
    "ax1.legend(loc=\"upper left\")\n",
    "ax2.legend(loc=\"upper right\")\n",
    "ax3.legend(loc=\"lower right\")\n",
    "\n"
   ]
  },
  {
   "cell_type": "code",
   "execution_count": null,
   "metadata": {},
   "outputs": [],
   "source": []
  },
  {
   "cell_type": "code",
   "execution_count": null,
   "metadata": {},
   "outputs": [],
   "source": []
  }
 ],
 "metadata": {
  "kernelspec": {
   "display_name": "Python 3",
   "language": "python",
   "name": "python3"
  },
  "language_info": {
   "codemirror_mode": {
    "name": "ipython",
    "version": 3
   },
   "file_extension": ".py",
   "mimetype": "text/x-python",
   "name": "python",
   "nbconvert_exporter": "python",
   "pygments_lexer": "ipython3",
   "version": "3.6.5"
  }
 },
 "nbformat": 4,
 "nbformat_minor": 2
}
