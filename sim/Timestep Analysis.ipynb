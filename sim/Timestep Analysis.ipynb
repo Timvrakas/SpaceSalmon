{
 "cells": [
  {
   "cell_type": "code",
   "execution_count": 48,
   "metadata": {
    "scrolled": false
   },
   "outputs": [],
   "source": [
    "import pickle\n",
    "import numpy as np\n",
    "\n",
    "with open(\"C:/Users/timv/Git/SpaceSalmon/sim/data/5-4-2019-trim.pkl\", 'rb') as f:\n",
    "    sim = pickle.load(f)\n",
    "\n",
    "new = [[],[],[],[]]\n",
    "\n",
    "for j in range(4):\n",
    "    for i in range(len(sim[j])):\n",
    "        new[j].append(sim[j][i])\n",
    "        if(i+1 < len(sim[j])):\n",
    "            new[j].append((sim[j][i]+sim[j][i+1])/2)\n",
    "            \n",
    "new = np.array(new)\n",
    "        \n",
    "with open(\"C:/Users/timv/Git/SpaceSalmon/sim/data/5-4-2019-trim-ddr.pkl\", 'wb') as f:\n",
    "    pickle.dump(new, f)"
   ]
  },
  {
   "cell_type": "code",
   "execution_count": null,
   "metadata": {},
   "outputs": [],
   "source": []
  }
 ],
 "metadata": {
  "kernelspec": {
   "display_name": "Python 3",
   "language": "python",
   "name": "python3"
  },
  "language_info": {
   "codemirror_mode": {
    "name": "ipython",
    "version": 3
   },
   "file_extension": ".py",
   "mimetype": "text/x-python",
   "name": "python",
   "nbconvert_exporter": "python",
   "pygments_lexer": "ipython3",
   "version": "3.6.5"
  }
 },
 "nbformat": 4,
 "nbformat_minor": 2
}
